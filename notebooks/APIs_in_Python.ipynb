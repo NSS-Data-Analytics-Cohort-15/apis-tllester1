{
 "cells": [
  {
   "cell_type": "code",
   "execution_count": 1,
   "metadata": {},
   "outputs": [],
   "source": [
    "import requests\n",
    "import matplotlib.pyplot as plt"
   ]
  },
  {
   "cell_type": "markdown",
   "metadata": {},
   "source": [
    "# APIs\n",
    "\n",
    "An Application Programming Interface, or API, is a structured way to retrieve data from a website. Using an API is safer and easier than something like webscraping, since what you get back is already in a usable format. Many organizations use APIs like:\n",
    "- Government organizations ([US Government](https://www.data.gov/developers/apis))\n",
    "- Large companies ([Twitter API](https://developer.twitter.com/en/docs))\n",
    "- News organizations ([NYT API](https://developer.nytimes.com/))\n",
    "- And [many more](https://github.com/public-apis/public-apis)\n",
    "\n",
    "If you type `how to use an api in python` in google, you get back many articles walking through how to use an API. It is a well documented and useful tool to be familiar with."
   ]
  },
  {
   "cell_type": "markdown",
   "metadata": {},
   "source": [
    "## Basic API Usage\n",
    "\n",
    "Let's start by using the Numbers API, an API which provides interesting facts about numbers.\n",
    "\n",
    "With any API, you should start by inspecting the documentation. For the Numbers API, the documentation is located here: http://numbersapi.com"
   ]
  },
  {
   "cell_type": "markdown",
   "metadata": {},
   "source": [
    "We will be using the `requests` package to make a `GET` request to an API. Similar to webscraping, APIs require an endpoint to tell python where to send the request.\n",
    "\n",
    "When using an API, the first thing we need to know is the expected URL structure. In this case, it is http://numbersapi.com/number/type where number is the number for which we want an interesting fact and type indicates which type of fact we want. Note that type can be omitted, and it will default to trivia."
   ]
  },
  {
   "cell_type": "code",
   "execution_count": 2,
   "metadata": {},
   "outputs": [],
   "source": [
    "endpoint = 'http://numbersapi.com/8'\n",
    "\n",
    "response = requests.get(endpoint)"
   ]
  },
  {
   "cell_type": "markdown",
   "metadata": {},
   "source": [
    "Let's check the response. If all is well, we should have a 200 response."
   ]
  },
  {
   "cell_type": "code",
   "execution_count": 3,
   "metadata": {},
   "outputs": [
    {
     "data": {
      "text/plain": [
       "<Response [200]>"
      ]
     },
     "execution_count": 3,
     "metadata": {},
     "output_type": "execute_result"
    }
   ],
   "source": [
    "response"
   ]
  },
  {
   "cell_type": "markdown",
   "metadata": {},
   "source": [
    "To access the content of the response, we can look at the `text` attribute."
   ]
  },
  {
   "cell_type": "code",
   "execution_count": 4,
   "metadata": {},
   "outputs": [
    {
     "data": {
      "text/plain": [
       "'8 is the number of principles of Yong in Chinese calligraphy.'"
      ]
     },
     "execution_count": 4,
     "metadata": {},
     "output_type": "execute_result"
    }
   ],
   "source": [
    "response.text"
   ]
  },
  {
   "cell_type": "markdown",
   "metadata": {},
   "source": [
    "What if we want to be able to easily change the number that we want to retrieve. For this, we can make use of an f-string. "
   ]
  },
  {
   "cell_type": "code",
   "execution_count": 5,
   "metadata": {},
   "outputs": [
    {
     "data": {
      "text/plain": [
       "'95 is the atomic number of americium.'"
      ]
     },
     "execution_count": 5,
     "metadata": {},
     "output_type": "execute_result"
    }
   ],
   "source": [
    "number = 95\n",
    "\n",
    "endpoint = f'http://numbersapi.com/{number}'\n",
    "\n",
    "response = requests.get(endpoint)\n",
    "\n",
    "response.text"
   ]
  },
  {
   "cell_type": "markdown",
   "metadata": {},
   "source": [
    "This API also allows for batch requests: http://numbersapi.com#batching"
   ]
  },
  {
   "cell_type": "code",
   "execution_count": 13,
   "metadata": {},
   "outputs": [],
   "source": [
    "number_range = \"1..10\"\n",
    "\n",
    "endpoint = f'http://numbersapi.com/{number_range}'\n",
    "\n",
    "response = requests.get(endpoint)"
   ]
  },
  {
   "cell_type": "markdown",
   "metadata": {},
   "source": [
    "We can look at the response as text."
   ]
  },
  {
   "cell_type": "code",
   "execution_count": 14,
   "metadata": {},
   "outputs": [
    {
     "data": {
      "text/plain": [
       "'{\\n \"1\": \"1 is the number of Gods in monotheism.\",\\n \"2\": \"2 is the price in cents per acre the USA bought Alaska from Russia.\",\\n \"3\": \"3 is number of performers in a trio.\",\\n \"4\": \"4 is the number of legs most furniture has.\",\\n \"5\": \"5 is the number of Korotkoff sounds when measuring blood pressure.\",\\n \"6\": \"6 is the number of basic holes or keys on most woodwind instruments.\",\\n \"7\": \"7 is the number of main stars in the constellations of the Big Dipper and Orion.\",\\n \"8\": \"8 is the number of bits in a byte.\",\\n \"9\": \"9 is the number of innings in a regulation, non-tied game of baseball.\",\\n \"10\": \"10 is the number of hydrogen atoms in butane, a hydrocarbon.\"\\n}'"
      ]
     },
     "execution_count": 14,
     "metadata": {},
     "output_type": "execute_result"
    }
   ],
   "source": [
    "response.text"
   ]
  },
  {
   "cell_type": "markdown",
   "metadata": {},
   "source": [
    "However, it will be easier to work with as a json. We can use the `json` method to convert the results to a dictionary."
   ]
  },
  {
   "cell_type": "code",
   "execution_count": 15,
   "metadata": {},
   "outputs": [
    {
     "data": {
      "text/plain": [
       "{'1': '1 is the number of Gods in monotheism.',\n",
       " '2': '2 is the price in cents per acre the USA bought Alaska from Russia.',\n",
       " '3': '3 is number of performers in a trio.',\n",
       " '4': '4 is the number of legs most furniture has.',\n",
       " '5': '5 is the number of Korotkoff sounds when measuring blood pressure.',\n",
       " '6': '6 is the number of basic holes or keys on most woodwind instruments.',\n",
       " '7': '7 is the number of main stars in the constellations of the Big Dipper and Orion.',\n",
       " '8': '8 is the number of bits in a byte.',\n",
       " '9': '9 is the number of innings in a regulation, non-tied game of baseball.',\n",
       " '10': '10 is the number of hydrogen atoms in butane, a hydrocarbon.'}"
      ]
     },
     "execution_count": 15,
     "metadata": {},
     "output_type": "execute_result"
    }
   ],
   "source": [
    "res = response.json()\n",
    "res"
   ]
  },
  {
   "cell_type": "markdown",
   "metadata": {},
   "source": [
    "Then, we can access the individual entries by passing in the correct key."
   ]
  },
  {
   "cell_type": "code",
   "execution_count": 16,
   "metadata": {},
   "outputs": [
    {
     "data": {
      "text/plain": [
       "'5 is the number of Korotkoff sounds when measuring blood pressure.'"
      ]
     },
     "execution_count": 16,
     "metadata": {},
     "output_type": "execute_result"
    }
   ],
   "source": [
    "res['5']"
   ]
  },
  {
   "cell_type": "markdown",
   "metadata": {},
   "source": [
    "Finally, notice that we can ask for a fact about a random number."
   ]
  },
  {
   "cell_type": "code",
   "execution_count": 18,
   "metadata": {},
   "outputs": [
    {
     "data": {
      "text/plain": [
       "'30000 is the number of distinct Chinese characters.'"
      ]
     },
     "execution_count": 18,
     "metadata": {},
     "output_type": "execute_result"
    }
   ],
   "source": [
    "endpoint = 'http://numbersapi.com/random'\n",
    "\n",
    "response = requests.get(endpoint)\n",
    "\n",
    "response.text"
   ]
  },
  {
   "cell_type": "markdown",
   "metadata": {},
   "source": [
    "We can specify a minimum and maximum for these random numbers: http://numbersapi.com#min-and-max\n",
    "\n",
    "#### Parameters\n",
    "\n",
    "Parameters are specific to each API and indicate what information you want back. These can be compared to the various ways you slice a table or df to get just the subset you want. Some parameters are required, others are optional. Always look at the documentation to know what parameters you should include and what are possible values for each one. When using parameters for an API call, you can do the following:\n",
    "\n",
    "1. Make an empty dictionary for the `params` variable\n",
    "2. Look at the documentation to know what parameters you should include, add these as **keys** to the dictionary\n",
    "3. Add the appropriate values for each parameter as the **values** for the dictionary\n",
    "\n",
    "For example, let's get a fact about a random number between 500 and 600"
   ]
  },
  {
   "cell_type": "code",
   "execution_count": 23,
   "metadata": {},
   "outputs": [
    {
     "data": {
      "text/plain": [
       "'587 is the outgoing port for email message submission.'"
      ]
     },
     "execution_count": 23,
     "metadata": {},
     "output_type": "execute_result"
    }
   ],
   "source": [
    "endpoint = 'http://numbersapi.com/random'\n",
    "\n",
    "params = {\n",
    "    'min': 500,\n",
    "    'max': 600\n",
    "}\n",
    "\n",
    "response = requests.get(endpoint, params = params)\n",
    "\n",
    "response.text"
   ]
  },
  {
   "cell_type": "markdown",
   "metadata": {},
   "source": [
    "### NASA API and API Keys\n",
    "\n",
    "Now, let's work with the NASA API: https://api.nasa.gov/\n",
    "\n",
    "One of the main ways APIs maintain security is by the use of some form of authentication, such as an API key. An API key can be obtained in a number of ways, depending on the API, and is a way for the application to know who you are and provides you secure access to the data.\n",
    "\n",
    "To work with the NASA API, you'll need to create an API key.\n",
    "\n",
    "1. Scroll down and enter your First Name, Last Name, and email to generate an API key\n",
    "2. Copy the API key into the keys.json file.\n",
    "\n",
    "**DO NOT SHARE YOUR API KEYS OR PUT THEM IN A PUBLIC PLACE LIKE GITHUB**\n",
    "\n",
    "API keys should be stored securely on your computer and removed from any code or documents you share."
   ]
  },
  {
   "cell_type": "markdown",
   "metadata": {},
   "source": [
    "Now, we can safely load your key into a variable using the json library."
   ]
  },
  {
   "cell_type": "code",
   "execution_count": 24,
   "metadata": {},
   "outputs": [],
   "source": [
    "import json"
   ]
  },
  {
   "cell_type": "code",
   "execution_count": 25,
   "metadata": {},
   "outputs": [],
   "source": [
    "with open('keys.json') as fi:\n",
    "    credentials = json.load(fi)"
   ]
  },
  {
   "cell_type": "code",
   "execution_count": 29,
   "metadata": {},
   "outputs": [],
   "source": [
    "api_key = credentials['api_key']"
   ]
  },
  {
   "cell_type": "markdown",
   "metadata": {},
   "source": [
    "1. Look at the different available APIs in the `Browse APIs` tab\n",
    "2. Click on the **Asteroids - NeoWs**\n",
    "3. Under **Neo - Feed**, copy the second line into the endpoint variable below as a string and delete the last `?`"
   ]
  },
  {
   "cell_type": "code",
   "execution_count": 32,
   "metadata": {},
   "outputs": [],
   "source": [
    "endpoint = 'https://api.nasa.gov/neo/rest/v1/feed'"
   ]
  },
  {
   "cell_type": "markdown",
   "metadata": {},
   "source": [
    "Fill in the parameters dictionary below to retrieve information on all NeoWs between January 1, 2022 and January 7, 2022. (Be sure the include your api key as a parameter)."
   ]
  },
  {
   "cell_type": "code",
   "execution_count": null,
   "metadata": {},
   "outputs": [],
   "source": [
    "params = {\n",
    "    'start_date' : '2022-1-1',\n",
    "    'end_date' : '2022-1-7',\n",
    "    'api_key' : api_key\n",
    "\n",
    "}\n",
    "response = requests.get(endpoint, params = params)\n",
    "\n",
    "response.text\n"
   ]
  },
  {
   "cell_type": "markdown",
   "metadata": {},
   "source": [
    "You now have all the pieces to make an API request"
   ]
  },
  {
   "cell_type": "code",
   "execution_count": 44,
   "metadata": {},
   "outputs": [],
   "source": [
    "response = requests.get(endpoint, params = params)"
   ]
  },
  {
   "cell_type": "markdown",
   "metadata": {},
   "source": [
    "See what was saved to `response`"
   ]
  },
  {
   "cell_type": "code",
   "execution_count": 45,
   "metadata": {},
   "outputs": [
    {
     "data": {
      "text/plain": [
       "<Response [200]>"
      ]
     },
     "execution_count": 45,
     "metadata": {},
     "output_type": "execute_result"
    }
   ],
   "source": [
    "response"
   ]
  },
  {
   "cell_type": "markdown",
   "metadata": {},
   "source": [
    "This API returns the results as a json, so we'll access them using the `json` method."
   ]
  },
  {
   "cell_type": "code",
   "execution_count": null,
   "metadata": {},
   "outputs": [],
   "source": [
    "res = response.json()\n",
    "res"
   ]
  },
  {
   "cell_type": "code",
   "execution_count": 47,
   "metadata": {},
   "outputs": [
    {
     "data": {
      "text/plain": [
       "dict_keys(['links', 'element_count', 'near_earth_objects'])"
      ]
     },
     "execution_count": 47,
     "metadata": {},
     "output_type": "execute_result"
    }
   ],
   "source": [
    "res.keys()"
   ]
  },
  {
   "cell_type": "markdown",
   "metadata": {},
   "source": [
    "The information that we're interested in is located under `near_earth_objects`."
   ]
  },
  {
   "cell_type": "code",
   "execution_count": null,
   "metadata": {},
   "outputs": [],
   "source": [
    "res['near_earth_objects']"
   ]
  },
  {
   "cell_type": "code",
   "execution_count": 49,
   "metadata": {},
   "outputs": [
    {
     "data": {
      "text/plain": [
       "dict_keys(['2022-01-07', '2022-01-03', '2022-01-04', '2022-01-05', '2022-01-06', '2022-01-01', '2022-01-02'])"
      ]
     },
     "execution_count": 49,
     "metadata": {},
     "output_type": "execute_result"
    }
   ],
   "source": [
    "res['near_earth_objects'].keys()"
   ]
  },
  {
   "cell_type": "markdown",
   "metadata": {},
   "source": [
    "**Question:** How many near earth objects were there on January 3?"
   ]
  },
  {
   "cell_type": "code",
   "execution_count": 50,
   "metadata": {},
   "outputs": [
    {
     "data": {
      "text/plain": [
       "16"
      ]
     },
     "execution_count": 50,
     "metadata": {},
     "output_type": "execute_result"
    }
   ],
   "source": [
    "# Your Code Here\n",
    "len(res['near_earth_objects']['2022-01-03'])"
   ]
  },
  {
   "cell_type": "markdown",
   "metadata": {},
   "source": [
    "**Question:** Is the first returned result for January 3 potentially hazardous (as indicated by the `is_potentially_hazardous_asteroid` field)?"
   ]
  },
  {
   "cell_type": "code",
   "execution_count": 52,
   "metadata": {},
   "outputs": [
    {
     "data": {
      "text/plain": [
       "False"
      ]
     },
     "execution_count": 52,
     "metadata": {},
     "output_type": "execute_result"
    }
   ],
   "source": [
    "# Your Code Here\n",
    "res['near_earth_objects']['2022-01-03'][0]['is_potentially_hazardous_asteroid']"
   ]
  },
  {
   "cell_type": "markdown",
   "metadata": {},
   "source": [
    "**Question:** What was the relative velocity, in miles per hour of the first object returned for January 3?"
   ]
  },
  {
   "cell_type": "code",
   "execution_count": 62,
   "metadata": {},
   "outputs": [
    {
     "data": {
      "text/plain": [
       "dict_keys(['links', 'id', 'neo_reference_id', 'name', 'nasa_jpl_url', 'absolute_magnitude_h', 'estimated_diameter', 'is_potentially_hazardous_asteroid', 'close_approach_data', 'is_sentry_object'])"
      ]
     },
     "execution_count": 62,
     "metadata": {},
     "output_type": "execute_result"
    }
   ],
   "source": [
    "# Your Code Here\n",
    "object = res['near_earth_objects']['2022-01-03'][0]\n",
    "object.keys()\n",
    "# res['near_earth_objects']['2022-01-03'][0]['close_approach_data'][0]['relative_velocity']['miles_per_hour']"
   ]
  },
  {
   "cell_type": "code",
   "execution_count": 68,
   "metadata": {},
   "outputs": [
    {
     "name": "stdout",
     "output_type": "stream",
     "text": [
      "50865.239055435 mph\n"
     ]
    }
   ],
   "source": [
    "object_approach = object['close_approach_data'][0]\n",
    "mph = object_approach['relative_velocity']['miles_per_hour']\n",
    "print(mph,'mph')"
   ]
  },
  {
   "cell_type": "markdown",
   "metadata": {},
   "source": [
    "The for loop below iterates over the data returned and pulls out information for each asteroid. It then saves the information to lists, that are used for making a scatter plot of the asteroids."
   ]
  },
  {
   "cell_type": "code",
   "execution_count": 69,
   "metadata": {},
   "outputs": [
    {
     "data": {
      "image/png": "[encoded data removed]",
      "text/plain": [
       "<Figure size 1700x1000 with 1 Axes>"
      ]
     },
     "metadata": {},
     "output_type": "display_data"
    }
   ],
   "source": [
    "max_diam = []\n",
    "hazardous = []\n",
    "miss_dist = []\n",
    "for day, objs in res['near_earth_objects'].items():\n",
    "    for obj in objs:\n",
    "        max_diam.append(float(obj['estimated_diameter']['miles']['estimated_diameter_max']))\n",
    "        hazardous.append(obj['is_potentially_hazardous_asteroid'])\n",
    "        miss_dist.append(float(obj['close_approach_data'][0]['miss_distance']['miles']))\n",
    "\n",
    "plt.figure(figsize = (17, 10))\n",
    "plt.scatter(max_diam, miss_dist, c = hazardous)\n",
    "plt.xlabel('max diameter (miles)')\n",
    "plt.ylabel('miss distance (miles)');"
   ]
  },
  {
   "cell_type": "markdown",
   "metadata": {},
   "source": [
    "If you want to work with the response from an API using _pandas_, you'll want to convert it to a DataFrame. In some circumstances, you can easily convert a json to a DataFrame, but in other cases, you have to do a little bit of work."
   ]
  },
  {
   "cell_type": "code",
   "execution_count": 70,
   "metadata": {},
   "outputs": [],
   "source": [
    "import pandas as pd"
   ]
  },
  {
   "cell_type": "markdown",
   "metadata": {},
   "source": [
    "The easiest case is when you have a list of dictionaries. Here, you can simply use the `DataFrame` constructor. Let's see how this works using one of the days. If you wanted to get all of the results into a single DataFrame, you could iterate through and concatenate. "
   ]
  },
  {
   "cell_type": "code",
   "execution_count": 71,
   "metadata": {},
   "outputs": [
    {
     "data": {
      "text/html": [
       "<div>\n",
       "<style scoped>\n",
       "    .dataframe tbody tr th:only-of-type {\n",
       "        vertical-align: middle;\n",
       "    }\n",
       "\n",
       "    .dataframe tbody tr th {\n",
       "        vertical-align: top;\n",
       "    }\n",
       "\n",
       "    .dataframe thead th {\n",
       "        text-align: right;\n",
       "    }\n",
       "</style>\n",
       "<table border=\"1\" class=\"dataframe\">\n",
       "  <thead>\n",
       "    <tr style=\"text-align: right;\">\n",
       "      <th></th>\n",
       "      <th>links</th>\n",
       "      <th>id</th>\n",
       "      <th>neo_reference_id</th>\n",
       "      <th>name</th>\n",
       "      <th>nasa_jpl_url</th>\n",
       "      <th>absolute_magnitude_h</th>\n",
       "      <th>estimated_diameter</th>\n",
       "      <th>is_potentially_hazardous_asteroid</th>\n",
       "      <th>close_approach_data</th>\n",
       "      <th>is_sentry_object</th>\n",
       "      <th>sentry_data</th>\n",
       "    </tr>\n",
       "  </thead>\n",
       "  <tbody>\n",
       "    <tr>\n",
       "      <th>0</th>\n",
       "      <td>{'self': 'http://api.nasa.gov/neo/rest/v1/neo/...</td>\n",
       "      <td>2494697</td>\n",
       "      <td>2494697</td>\n",
       "      <td>494697 (2004 SW55)</td>\n",
       "      <td>https://ssd.jpl.nasa.gov/tools/sbdb_lookup.htm...</td>\n",
       "      <td>20.77</td>\n",
       "      <td>{'kilometers': {'estimated_diameter_min': 0.18...</td>\n",
       "      <td>True</td>\n",
       "      <td>[{'close_approach_date': '2022-01-07', 'close_...</td>\n",
       "      <td>False</td>\n",
       "      <td>NaN</td>\n",
       "    </tr>\n",
       "    <tr>\n",
       "      <th>1</th>\n",
       "      <td>{'self': 'http://api.nasa.gov/neo/rest/v1/neo/...</td>\n",
       "      <td>2496860</td>\n",
       "      <td>2496860</td>\n",
       "      <td>496860 (1999 XL136)</td>\n",
       "      <td>https://ssd.jpl.nasa.gov/tools/sbdb_lookup.htm...</td>\n",
       "      <td>19.67</td>\n",
       "      <td>{'kilometers': {'estimated_diameter_min': 0.30...</td>\n",
       "      <td>True</td>\n",
       "      <td>[{'close_approach_date': '2022-01-07', 'close_...</td>\n",
       "      <td>False</td>\n",
       "      <td>NaN</td>\n",
       "    </tr>\n",
       "  </tbody>\n",
       "</table>\n",
       "</div>"
      ],
      "text/plain": [
       "                                               links       id  \\\n",
       "0  {'self': 'http://api.nasa.gov/neo/rest/v1/neo/...  2494697   \n",
       "1  {'self': 'http://api.nasa.gov/neo/rest/v1/neo/...  2496860   \n",
       "\n",
       "  neo_reference_id                 name  \\\n",
       "0          2494697   494697 (2004 SW55)   \n",
       "1          2496860  496860 (1999 XL136)   \n",
       "\n",
       "                                        nasa_jpl_url  absolute_magnitude_h  \\\n",
       "0  https://ssd.jpl.nasa.gov/tools/sbdb_lookup.htm...                 20.77   \n",
       "1  https://ssd.jpl.nasa.gov/tools/sbdb_lookup.htm...                 19.67   \n",
       "\n",
       "                                  estimated_diameter  \\\n",
       "0  {'kilometers': {'estimated_diameter_min': 0.18...   \n",
       "1  {'kilometers': {'estimated_diameter_min': 0.30...   \n",
       "\n",
       "   is_potentially_hazardous_asteroid  \\\n",
       "0                               True   \n",
       "1                               True   \n",
       "\n",
       "                                 close_approach_data  is_sentry_object  \\\n",
       "0  [{'close_approach_date': '2022-01-07', 'close_...             False   \n",
       "1  [{'close_approach_date': '2022-01-07', 'close_...             False   \n",
       "\n",
       "  sentry_data  \n",
       "0         NaN  \n",
       "1         NaN  "
      ]
     },
     "execution_count": 71,
     "metadata": {},
     "output_type": "execute_result"
    }
   ],
   "source": [
    "pd.DataFrame(response.json()['near_earth_objects']['2022-01-07']).head(2)"
   ]
  },
  {
   "cell_type": "markdown",
   "metadata": {},
   "source": [
    "You'll notice that we still have dictionaries in some of the columns. This can be remedied using the `json_normalize` function."
   ]
  },
  {
   "cell_type": "code",
   "execution_count": 72,
   "metadata": {},
   "outputs": [
    {
     "data": {
      "text/html": [
       "<div>\n",
       "<style scoped>\n",
       "    .dataframe tbody tr th:only-of-type {\n",
       "        vertical-align: middle;\n",
       "    }\n",
       "\n",
       "    .dataframe tbody tr th {\n",
       "        vertical-align: top;\n",
       "    }\n",
       "\n",
       "    .dataframe thead th {\n",
       "        text-align: right;\n",
       "    }\n",
       "</style>\n",
       "<table border=\"1\" class=\"dataframe\">\n",
       "  <thead>\n",
       "    <tr style=\"text-align: right;\">\n",
       "      <th></th>\n",
       "      <th>id</th>\n",
       "      <th>neo_reference_id</th>\n",
       "      <th>name</th>\n",
       "      <th>nasa_jpl_url</th>\n",
       "      <th>absolute_magnitude_h</th>\n",
       "      <th>is_potentially_hazardous_asteroid</th>\n",
       "      <th>close_approach_data</th>\n",
       "      <th>is_sentry_object</th>\n",
       "      <th>links.self</th>\n",
       "      <th>estimated_diameter.kilometers.estimated_diameter_min</th>\n",
       "      <th>estimated_diameter.kilometers.estimated_diameter_max</th>\n",
       "      <th>estimated_diameter.meters.estimated_diameter_min</th>\n",
       "      <th>estimated_diameter.meters.estimated_diameter_max</th>\n",
       "      <th>estimated_diameter.miles.estimated_diameter_min</th>\n",
       "      <th>estimated_diameter.miles.estimated_diameter_max</th>\n",
       "      <th>estimated_diameter.feet.estimated_diameter_min</th>\n",
       "      <th>estimated_diameter.feet.estimated_diameter_max</th>\n",
       "      <th>sentry_data</th>\n",
       "    </tr>\n",
       "  </thead>\n",
       "  <tbody>\n",
       "    <tr>\n",
       "      <th>0</th>\n",
       "      <td>2494697</td>\n",
       "      <td>2494697</td>\n",
       "      <td>494697 (2004 SW55)</td>\n",
       "      <td>https://ssd.jpl.nasa.gov/tools/sbdb_lookup.htm...</td>\n",
       "      <td>20.77</td>\n",
       "      <td>True</td>\n",
       "      <td>[{'close_approach_date': '2022-01-07', 'close_...</td>\n",
       "      <td>False</td>\n",
       "      <td>http://api.nasa.gov/neo/rest/v1/neo/2494697?ap...</td>\n",
       "      <td>0.186447</td>\n",
       "      <td>0.416908</td>\n",
       "      <td>186.446818</td>\n",
       "      <td>416.90776</td>\n",
       "      <td>0.115853</td>\n",
       "      <td>0.259054</td>\n",
       "      <td>611.702179</td>\n",
       "      <td>1367.807655</td>\n",
       "      <td>NaN</td>\n",
       "    </tr>\n",
       "    <tr>\n",
       "      <th>1</th>\n",
       "      <td>2496860</td>\n",
       "      <td>2496860</td>\n",
       "      <td>496860 (1999 XL136)</td>\n",
       "      <td>https://ssd.jpl.nasa.gov/tools/sbdb_lookup.htm...</td>\n",
       "      <td>19.67</td>\n",
       "      <td>True</td>\n",
       "      <td>[{'close_approach_date': '2022-01-07', 'close_...</td>\n",
       "      <td>False</td>\n",
       "      <td>http://api.nasa.gov/neo/rest/v1/neo/2496860?ap...</td>\n",
       "      <td>0.309425</td>\n",
       "      <td>0.691895</td>\n",
       "      <td>309.424699</td>\n",
       "      <td>691.89466</td>\n",
       "      <td>0.192268</td>\n",
       "      <td>0.429923</td>\n",
       "      <td>1015.172928</td>\n",
       "      <td>2269.995676</td>\n",
       "      <td>NaN</td>\n",
       "    </tr>\n",
       "  </tbody>\n",
       "</table>\n",
       "</div>"
      ],
      "text/plain": [
       "        id neo_reference_id                 name  \\\n",
       "0  2494697          2494697   494697 (2004 SW55)   \n",
       "1  2496860          2496860  496860 (1999 XL136)   \n",
       "\n",
       "                                        nasa_jpl_url  absolute_magnitude_h  \\\n",
       "0  https://ssd.jpl.nasa.gov/tools/sbdb_lookup.htm...                 20.77   \n",
       "1  https://ssd.jpl.nasa.gov/tools/sbdb_lookup.htm...                 19.67   \n",
       "\n",
       "   is_potentially_hazardous_asteroid  \\\n",
       "0                               True   \n",
       "1                               True   \n",
       "\n",
       "                                 close_approach_data  is_sentry_object  \\\n",
       "0  [{'close_approach_date': '2022-01-07', 'close_...             False   \n",
       "1  [{'close_approach_date': '2022-01-07', 'close_...             False   \n",
       "\n",
       "                                          links.self  \\\n",
       "0  http://api.nasa.gov/neo/rest/v1/neo/2494697?ap...   \n",
       "1  http://api.nasa.gov/neo/rest/v1/neo/2496860?ap...   \n",
       "\n",
       "   estimated_diameter.kilometers.estimated_diameter_min  \\\n",
       "0                                           0.186447      \n",
       "1                                           0.309425      \n",
       "\n",
       "   estimated_diameter.kilometers.estimated_diameter_max  \\\n",
       "0                                           0.416908      \n",
       "1                                           0.691895      \n",
       "\n",
       "   estimated_diameter.meters.estimated_diameter_min  \\\n",
       "0                                        186.446818   \n",
       "1                                        309.424699   \n",
       "\n",
       "   estimated_diameter.meters.estimated_diameter_max  \\\n",
       "0                                         416.90776   \n",
       "1                                         691.89466   \n",
       "\n",
       "   estimated_diameter.miles.estimated_diameter_min  \\\n",
       "0                                         0.115853   \n",
       "1                                         0.192268   \n",
       "\n",
       "   estimated_diameter.miles.estimated_diameter_max  \\\n",
       "0                                         0.259054   \n",
       "1                                         0.429923   \n",
       "\n",
       "   estimated_diameter.feet.estimated_diameter_min  \\\n",
       "0                                      611.702179   \n",
       "1                                     1015.172928   \n",
       "\n",
       "   estimated_diameter.feet.estimated_diameter_max sentry_data  \n",
       "0                                     1367.807655         NaN  \n",
       "1                                     2269.995676         NaN  "
      ]
     },
     "execution_count": 72,
     "metadata": {},
     "output_type": "execute_result"
    }
   ],
   "source": [
    "pd.json_normalize(response.json()['near_earth_objects']['2022-01-07']).head(2)"
   ]
  },
  {
   "cell_type": "markdown",
   "metadata": {},
   "source": [
    "This almost does it, but the `close_approach_data` column contains a list, which `json_normalize` can't handle. To fix this, we can use the `explode` method which will unpack the list across multiple columns, if needed."
   ]
  },
  {
   "cell_type": "code",
   "execution_count": 73,
   "metadata": {},
   "outputs": [
    {
     "data": {
      "text/html": [
       "<div>\n",
       "<style scoped>\n",
       "    .dataframe tbody tr th:only-of-type {\n",
       "        vertical-align: middle;\n",
       "    }\n",
       "\n",
       "    .dataframe tbody tr th {\n",
       "        vertical-align: top;\n",
       "    }\n",
       "\n",
       "    .dataframe thead th {\n",
       "        text-align: right;\n",
       "    }\n",
       "</style>\n",
       "<table border=\"1\" class=\"dataframe\">\n",
       "  <thead>\n",
       "    <tr style=\"text-align: right;\">\n",
       "      <th></th>\n",
       "      <th>id</th>\n",
       "      <th>neo_reference_id</th>\n",
       "      <th>name</th>\n",
       "      <th>nasa_jpl_url</th>\n",
       "      <th>absolute_magnitude_h</th>\n",
       "      <th>is_potentially_hazardous_asteroid</th>\n",
       "      <th>close_approach_data</th>\n",
       "      <th>is_sentry_object</th>\n",
       "      <th>links.self</th>\n",
       "      <th>estimated_diameter.kilometers.estimated_diameter_min</th>\n",
       "      <th>estimated_diameter.kilometers.estimated_diameter_max</th>\n",
       "      <th>estimated_diameter.meters.estimated_diameter_min</th>\n",
       "      <th>estimated_diameter.meters.estimated_diameter_max</th>\n",
       "      <th>estimated_diameter.miles.estimated_diameter_min</th>\n",
       "      <th>estimated_diameter.miles.estimated_diameter_max</th>\n",
       "      <th>estimated_diameter.feet.estimated_diameter_min</th>\n",
       "      <th>estimated_diameter.feet.estimated_diameter_max</th>\n",
       "      <th>sentry_data</th>\n",
       "    </tr>\n",
       "  </thead>\n",
       "  <tbody>\n",
       "    <tr>\n",
       "      <th>0</th>\n",
       "      <td>2494697</td>\n",
       "      <td>2494697</td>\n",
       "      <td>494697 (2004 SW55)</td>\n",
       "      <td>https://ssd.jpl.nasa.gov/tools/sbdb_lookup.htm...</td>\n",
       "      <td>20.77</td>\n",
       "      <td>True</td>\n",
       "      <td>{'close_approach_date': '2022-01-07', 'close_a...</td>\n",
       "      <td>False</td>\n",
       "      <td>http://api.nasa.gov/neo/rest/v1/neo/2494697?ap...</td>\n",
       "      <td>0.186447</td>\n",
       "      <td>0.416908</td>\n",
       "      <td>186.446818</td>\n",
       "      <td>416.90776</td>\n",
       "      <td>0.115853</td>\n",
       "      <td>0.259054</td>\n",
       "      <td>611.702179</td>\n",
       "      <td>1367.807655</td>\n",
       "      <td>NaN</td>\n",
       "    </tr>\n",
       "    <tr>\n",
       "      <th>1</th>\n",
       "      <td>2496860</td>\n",
       "      <td>2496860</td>\n",
       "      <td>496860 (1999 XL136)</td>\n",
       "      <td>https://ssd.jpl.nasa.gov/tools/sbdb_lookup.htm...</td>\n",
       "      <td>19.67</td>\n",
       "      <td>True</td>\n",
       "      <td>{'close_approach_date': '2022-01-07', 'close_a...</td>\n",
       "      <td>False</td>\n",
       "      <td>http://api.nasa.gov/neo/rest/v1/neo/2496860?ap...</td>\n",
       "      <td>0.309425</td>\n",
       "      <td>0.691895</td>\n",
       "      <td>309.424699</td>\n",
       "      <td>691.89466</td>\n",
       "      <td>0.192268</td>\n",
       "      <td>0.429923</td>\n",
       "      <td>1015.172928</td>\n",
       "      <td>2269.995676</td>\n",
       "      <td>NaN</td>\n",
       "    </tr>\n",
       "  </tbody>\n",
       "</table>\n",
       "</div>"
      ],
      "text/plain": [
       "        id neo_reference_id                 name  \\\n",
       "0  2494697          2494697   494697 (2004 SW55)   \n",
       "1  2496860          2496860  496860 (1999 XL136)   \n",
       "\n",
       "                                        nasa_jpl_url  absolute_magnitude_h  \\\n",
       "0  https://ssd.jpl.nasa.gov/tools/sbdb_lookup.htm...                 20.77   \n",
       "1  https://ssd.jpl.nasa.gov/tools/sbdb_lookup.htm...                 19.67   \n",
       "\n",
       "   is_potentially_hazardous_asteroid  \\\n",
       "0                               True   \n",
       "1                               True   \n",
       "\n",
       "                                 close_approach_data  is_sentry_object  \\\n",
       "0  {'close_approach_date': '2022-01-07', 'close_a...             False   \n",
       "1  {'close_approach_date': '2022-01-07', 'close_a...             False   \n",
       "\n",
       "                                          links.self  \\\n",
       "0  http://api.nasa.gov/neo/rest/v1/neo/2494697?ap...   \n",
       "1  http://api.nasa.gov/neo/rest/v1/neo/2496860?ap...   \n",
       "\n",
       "   estimated_diameter.kilometers.estimated_diameter_min  \\\n",
       "0                                           0.186447      \n",
       "1                                           0.309425      \n",
       "\n",
       "   estimated_diameter.kilometers.estimated_diameter_max  \\\n",
       "0                                           0.416908      \n",
       "1                                           0.691895      \n",
       "\n",
       "   estimated_diameter.meters.estimated_diameter_min  \\\n",
       "0                                        186.446818   \n",
       "1                                        309.424699   \n",
       "\n",
       "   estimated_diameter.meters.estimated_diameter_max  \\\n",
       "0                                         416.90776   \n",
       "1                                         691.89466   \n",
       "\n",
       "   estimated_diameter.miles.estimated_diameter_min  \\\n",
       "0                                         0.115853   \n",
       "1                                         0.192268   \n",
       "\n",
       "   estimated_diameter.miles.estimated_diameter_max  \\\n",
       "0                                         0.259054   \n",
       "1                                         0.429923   \n",
       "\n",
       "   estimated_diameter.feet.estimated_diameter_min  \\\n",
       "0                                      611.702179   \n",
       "1                                     1015.172928   \n",
       "\n",
       "   estimated_diameter.feet.estimated_diameter_max sentry_data  \n",
       "0                                     1367.807655         NaN  \n",
       "1                                     2269.995676         NaN  "
      ]
     },
     "execution_count": 73,
     "metadata": {},
     "output_type": "execute_result"
    }
   ],
   "source": [
    "response_df = pd.json_normalize(response.json()['near_earth_objects']['2022-01-07'])\n",
    "response_df.explode('close_approach_data').head(2)"
   ]
  },
  {
   "cell_type": "markdown",
   "metadata": {},
   "source": [
    "Once exploded, you can use the `json_normalize` function again."
   ]
  },
  {
   "cell_type": "code",
   "execution_count": 74,
   "metadata": {},
   "outputs": [
    {
     "data": {
      "text/html": [
       "<div>\n",
       "<style scoped>\n",
       "    .dataframe tbody tr th:only-of-type {\n",
       "        vertical-align: middle;\n",
       "    }\n",
       "\n",
       "    .dataframe tbody tr th {\n",
       "        vertical-align: top;\n",
       "    }\n",
       "\n",
       "    .dataframe thead th {\n",
       "        text-align: right;\n",
       "    }\n",
       "</style>\n",
       "<table border=\"1\" class=\"dataframe\">\n",
       "  <thead>\n",
       "    <tr style=\"text-align: right;\">\n",
       "      <th></th>\n",
       "      <th>close_approach_date</th>\n",
       "      <th>close_approach_date_full</th>\n",
       "      <th>epoch_date_close_approach</th>\n",
       "      <th>orbiting_body</th>\n",
       "      <th>relative_velocity.kilometers_per_second</th>\n",
       "      <th>relative_velocity.kilometers_per_hour</th>\n",
       "      <th>relative_velocity.miles_per_hour</th>\n",
       "      <th>miss_distance.astronomical</th>\n",
       "      <th>miss_distance.lunar</th>\n",
       "      <th>miss_distance.kilometers</th>\n",
       "      <th>miss_distance.miles</th>\n",
       "    </tr>\n",
       "  </thead>\n",
       "  <tbody>\n",
       "    <tr>\n",
       "      <th>0</th>\n",
       "      <td>2022-01-07</td>\n",
       "      <td>2022-Jan-07 12:09</td>\n",
       "      <td>1641557340000</td>\n",
       "      <td>Earth</td>\n",
       "      <td>10.0478001196</td>\n",
       "      <td>36172.0804304837</td>\n",
       "      <td>22475.9240874858</td>\n",
       "      <td>0.1338706738</td>\n",
       "      <td>52.0756921082</td>\n",
       "      <td>20026767.655944806</td>\n",
       "      <td>12444056.3828420828</td>\n",
       "    </tr>\n",
       "    <tr>\n",
       "      <th>1</th>\n",
       "      <td>2022-01-07</td>\n",
       "      <td>2022-Jan-07 02:07</td>\n",
       "      <td>1641521220000</td>\n",
       "      <td>Earth</td>\n",
       "      <td>16.7624360583</td>\n",
       "      <td>60344.7698097014</td>\n",
       "      <td>37495.8932187003</td>\n",
       "      <td>0.0895472705</td>\n",
       "      <td>34.8338882245</td>\n",
       "      <td>13396080.931113835</td>\n",
       "      <td>8323938.704427523</td>\n",
       "    </tr>\n",
       "  </tbody>\n",
       "</table>\n",
       "</div>"
      ],
      "text/plain": [
       "  close_approach_date close_approach_date_full  epoch_date_close_approach  \\\n",
       "0          2022-01-07        2022-Jan-07 12:09              1641557340000   \n",
       "1          2022-01-07        2022-Jan-07 02:07              1641521220000   \n",
       "\n",
       "  orbiting_body relative_velocity.kilometers_per_second  \\\n",
       "0         Earth                           10.0478001196   \n",
       "1         Earth                           16.7624360583   \n",
       "\n",
       "  relative_velocity.kilometers_per_hour relative_velocity.miles_per_hour  \\\n",
       "0                      36172.0804304837                 22475.9240874858   \n",
       "1                      60344.7698097014                 37495.8932187003   \n",
       "\n",
       "  miss_distance.astronomical miss_distance.lunar miss_distance.kilometers  \\\n",
       "0               0.1338706738       52.0756921082       20026767.655944806   \n",
       "1               0.0895472705       34.8338882245       13396080.931113835   \n",
       "\n",
       "   miss_distance.miles  \n",
       "0  12444056.3828420828  \n",
       "1    8323938.704427523  "
      ]
     },
     "execution_count": 74,
     "metadata": {},
     "output_type": "execute_result"
    }
   ],
   "source": [
    "pd.json_normalize(response_df.explode('close_approach_data')['close_approach_data']).head(2)"
   ]
  },
  {
   "cell_type": "markdown",
   "metadata": {},
   "source": [
    "And finally, you can concatenate the two pieces together."
   ]
  },
  {
   "cell_type": "code",
   "execution_count": 75,
   "metadata": {},
   "outputs": [
    {
     "data": {
      "text/html": [
       "<div>\n",
       "<style scoped>\n",
       "    .dataframe tbody tr th:only-of-type {\n",
       "        vertical-align: middle;\n",
       "    }\n",
       "\n",
       "    .dataframe tbody tr th {\n",
       "        vertical-align: top;\n",
       "    }\n",
       "\n",
       "    .dataframe thead th {\n",
       "        text-align: right;\n",
       "    }\n",
       "</style>\n",
       "<table border=\"1\" class=\"dataframe\">\n",
       "  <thead>\n",
       "    <tr style=\"text-align: right;\">\n",
       "      <th></th>\n",
       "      <th>id</th>\n",
       "      <th>neo_reference_id</th>\n",
       "      <th>name</th>\n",
       "      <th>nasa_jpl_url</th>\n",
       "      <th>absolute_magnitude_h</th>\n",
       "      <th>is_potentially_hazardous_asteroid</th>\n",
       "      <th>is_sentry_object</th>\n",
       "      <th>links.self</th>\n",
       "      <th>estimated_diameter.kilometers.estimated_diameter_min</th>\n",
       "      <th>estimated_diameter.kilometers.estimated_diameter_max</th>\n",
       "      <th>...</th>\n",
       "      <th>close_approach_date_full</th>\n",
       "      <th>epoch_date_close_approach</th>\n",
       "      <th>orbiting_body</th>\n",
       "      <th>relative_velocity.kilometers_per_second</th>\n",
       "      <th>relative_velocity.kilometers_per_hour</th>\n",
       "      <th>relative_velocity.miles_per_hour</th>\n",
       "      <th>miss_distance.astronomical</th>\n",
       "      <th>miss_distance.lunar</th>\n",
       "      <th>miss_distance.kilometers</th>\n",
       "      <th>miss_distance.miles</th>\n",
       "    </tr>\n",
       "  </thead>\n",
       "  <tbody>\n",
       "    <tr>\n",
       "      <th>0</th>\n",
       "      <td>2494697</td>\n",
       "      <td>2494697</td>\n",
       "      <td>494697 (2004 SW55)</td>\n",
       "      <td>https://ssd.jpl.nasa.gov/tools/sbdb_lookup.htm...</td>\n",
       "      <td>20.77</td>\n",
       "      <td>True</td>\n",
       "      <td>False</td>\n",
       "      <td>http://api.nasa.gov/neo/rest/v1/neo/2494697?ap...</td>\n",
       "      <td>0.186447</td>\n",
       "      <td>0.416908</td>\n",
       "      <td>...</td>\n",
       "      <td>2022-Jan-07 12:09</td>\n",
       "      <td>1641557340000</td>\n",
       "      <td>Earth</td>\n",
       "      <td>10.0478001196</td>\n",
       "      <td>36172.0804304837</td>\n",
       "      <td>22475.9240874858</td>\n",
       "      <td>0.1338706738</td>\n",
       "      <td>52.0756921082</td>\n",
       "      <td>20026767.655944806</td>\n",
       "      <td>12444056.3828420828</td>\n",
       "    </tr>\n",
       "    <tr>\n",
       "      <th>1</th>\n",
       "      <td>2496860</td>\n",
       "      <td>2496860</td>\n",
       "      <td>496860 (1999 XL136)</td>\n",
       "      <td>https://ssd.jpl.nasa.gov/tools/sbdb_lookup.htm...</td>\n",
       "      <td>19.67</td>\n",
       "      <td>True</td>\n",
       "      <td>False</td>\n",
       "      <td>http://api.nasa.gov/neo/rest/v1/neo/2496860?ap...</td>\n",
       "      <td>0.309425</td>\n",
       "      <td>0.691895</td>\n",
       "      <td>...</td>\n",
       "      <td>2022-Jan-07 02:07</td>\n",
       "      <td>1641521220000</td>\n",
       "      <td>Earth</td>\n",
       "      <td>16.7624360583</td>\n",
       "      <td>60344.7698097014</td>\n",
       "      <td>37495.8932187003</td>\n",
       "      <td>0.0895472705</td>\n",
       "      <td>34.8338882245</td>\n",
       "      <td>13396080.931113835</td>\n",
       "      <td>8323938.704427523</td>\n",
       "    </tr>\n",
       "  </tbody>\n",
       "</table>\n",
       "<p>2 rows × 28 columns</p>\n",
       "</div>"
      ],
      "text/plain": [
       "        id neo_reference_id                 name  \\\n",
       "0  2494697          2494697   494697 (2004 SW55)   \n",
       "1  2496860          2496860  496860 (1999 XL136)   \n",
       "\n",
       "                                        nasa_jpl_url  absolute_magnitude_h  \\\n",
       "0  https://ssd.jpl.nasa.gov/tools/sbdb_lookup.htm...                 20.77   \n",
       "1  https://ssd.jpl.nasa.gov/tools/sbdb_lookup.htm...                 19.67   \n",
       "\n",
       "   is_potentially_hazardous_asteroid  is_sentry_object  \\\n",
       "0                               True             False   \n",
       "1                               True             False   \n",
       "\n",
       "                                          links.self  \\\n",
       "0  http://api.nasa.gov/neo/rest/v1/neo/2494697?ap...   \n",
       "1  http://api.nasa.gov/neo/rest/v1/neo/2496860?ap...   \n",
       "\n",
       "   estimated_diameter.kilometers.estimated_diameter_min  \\\n",
       "0                                           0.186447      \n",
       "1                                           0.309425      \n",
       "\n",
       "   estimated_diameter.kilometers.estimated_diameter_max  ...  \\\n",
       "0                                           0.416908     ...   \n",
       "1                                           0.691895     ...   \n",
       "\n",
       "   close_approach_date_full  epoch_date_close_approach  orbiting_body  \\\n",
       "0         2022-Jan-07 12:09              1641557340000          Earth   \n",
       "1         2022-Jan-07 02:07              1641521220000          Earth   \n",
       "\n",
       "   relative_velocity.kilometers_per_second  \\\n",
       "0                            10.0478001196   \n",
       "1                            16.7624360583   \n",
       "\n",
       "   relative_velocity.kilometers_per_hour  relative_velocity.miles_per_hour  \\\n",
       "0                       36172.0804304837                  22475.9240874858   \n",
       "1                       60344.7698097014                  37495.8932187003   \n",
       "\n",
       "  miss_distance.astronomical miss_distance.lunar miss_distance.kilometers  \\\n",
       "0               0.1338706738       52.0756921082       20026767.655944806   \n",
       "1               0.0895472705       34.8338882245       13396080.931113835   \n",
       "\n",
       "   miss_distance.miles  \n",
       "0  12444056.3828420828  \n",
       "1    8323938.704427523  \n",
       "\n",
       "[2 rows x 28 columns]"
      ]
     },
     "execution_count": 75,
     "metadata": {},
     "output_type": "execute_result"
    }
   ],
   "source": [
    "pd.concat([\n",
    "    response_df.explode('close_approach_data').drop(columns = ['close_approach_data']),\n",
    "    pd.json_normalize(response_df.explode('close_approach_data')['close_approach_data'])\n",
    "], axis = 1).head(2)"
   ]
  },
  {
   "cell_type": "markdown",
   "metadata": {},
   "source": [
    "Let's try another `endpoint` from NASA. This time copy the endpoint from the **APOD** (Astronomy Picture of the Day) section.\n",
    "\n",
    "Fill in the endpoint and parameters in order to retrieve the image for January 1, 2019."
   ]
  },
  {
   "cell_type": "code",
   "execution_count": 99,
   "metadata": {},
   "outputs": [],
   "source": [
    "endpoint = 'https://api.nasa.gov/planetary/apod'\n",
    "\n",
    "params = {\n",
    "    'date' : '',\n",
    "    'api_key' : api_key\n",
    "\n",
    "}"
   ]
  },
  {
   "cell_type": "code",
   "execution_count": 100,
   "metadata": {},
   "outputs": [],
   "source": [
    "response = requests.get(endpoint, params = params)"
   ]
  },
  {
   "cell_type": "code",
   "execution_count": 101,
   "metadata": {},
   "outputs": [
    {
     "data": {
      "text/plain": [
       "<Response [200]>"
      ]
     },
     "execution_count": 101,
     "metadata": {},
     "output_type": "execute_result"
    }
   ],
   "source": [
    "response"
   ]
  },
  {
   "cell_type": "code",
   "execution_count": 102,
   "metadata": {},
   "outputs": [
    {
     "data": {
      "text/plain": [
       "{'date': '2025-09-09',\n",
       " 'explanation': \"What's that rising up from the Earth? When circling the Earth on the International Space Station early in July, astronaut Nicole Ayers saw an unusual type of lightning rising up from the Earth: a gigantic jet. The powerful jet appears near the center of the featured image in red, white, and blue. Giant jet lightning has only been known about for the past 25 years. The atmospheric jets are associated with thunderstorms and extend upwards towards Earth's ionosphere.  The lower part of the frame shows the Earth at night, with Earth's thin atmosphere tinted green from airglow. City lights are visible, sometimes resolved, but usually creating diffuse white glows in intervening clouds.  The top of the frame reveals distant stars in the dark night sky. The nature of gigantic jets and their possible association with other types of Transient Luminous Events (TLEs) such as blue jets and red sprites remain active topics of research.\",\n",
       " 'hdurl': 'https://apod.nasa.gov/apod/image/2509/JetIss_nasa_6604.jpg',\n",
       " 'media_type': 'image',\n",
       " 'service_version': 'v1',\n",
       " 'title': 'Up from the Earth: Gigantic Jet Lightning',\n",
       " 'url': 'https://apod.nasa.gov/apod/image/2509/JetIss_nasa_960.jpg'}"
      ]
     },
     "execution_count": 102,
     "metadata": {},
     "output_type": "execute_result"
    }
   ],
   "source": [
    "response.json()"
   ]
  },
  {
   "cell_type": "markdown",
   "metadata": {},
   "source": [
    "Finally, let's grab the image url so that we can retrieve the actual image."
   ]
  },
  {
   "cell_type": "code",
   "execution_count": 103,
   "metadata": {},
   "outputs": [],
   "source": [
    "image_response = requests.get(response.json()['url'])"
   ]
  },
  {
   "cell_type": "markdown",
   "metadata": {},
   "source": [
    "For image responses, we don't want to look at the text or json, but instead take the content. We'll now use the `.content` attribute from the response to render an image."
   ]
  },
  {
   "cell_type": "code",
   "execution_count": 97,
   "metadata": {},
   "outputs": [],
   "source": [
    "from IPython.display import Image"
   ]
  },
  {
   "cell_type": "code",
   "execution_count": 104,
   "metadata": {},
   "outputs": [
    {
     "data": {
      "image/jpeg": "[encoded data removed]",
      "text/plain": [
       "<IPython.core.display.Image object>"
      ]
     },
     "execution_count": 104,
     "metadata": {},
     "output_type": "execute_result"
    }
   ],
   "source": [
    "Image(image_response.content)"
   ]
  },
  {
   "cell_type": "code",
   "execution_count": null,
   "metadata": {},
   "outputs": [],
   "source": []
  }
 ],
 "metadata": {
  "kernelspec": {
   "display_name": "Python [conda env:base] *",
   "language": "python",
   "name": "conda-base-py"
  },
  "language_info": {
   "codemirror_mode": {
    "name": "ipython",
    "version": 3
   },
   "file_extension": ".py",
   "mimetype": "text/x-python",
   "name": "python",
   "nbconvert_exporter": "python",
   "pygments_lexer": "ipython3",
   "version": "3.13.5"
  }
 },
 "nbformat": 4,
 "nbformat_minor": 4
}
